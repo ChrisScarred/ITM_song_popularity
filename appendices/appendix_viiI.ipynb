{
 "metadata": {
  "language_info": {
   "codemirror_mode": {
    "name": "ipython",
    "version": 3
   },
   "file_extension": ".py",
   "mimetype": "text/x-python",
   "name": "python",
   "nbconvert_exporter": "python",
   "pygments_lexer": "ipython3",
   "version": "3.9.2"
  },
  "orig_nbformat": 2,
  "kernelspec": {
   "name": "python392jvsc74a57bd057990f1ad2ea89c67ddae7f31d40c478205c5912da0fccfb7c5cfbb2b8bf17ad",
   "display_name": "Python 3.9.2 64-bit"
  },
  "metadata": {
   "interpreter": {
    "hash": "57990f1ad2ea89c67ddae7f31d40c478205c5912da0fccfb7c5cfbb2b8bf17ad"
   }
  }
 },
 "nbformat": 4,
 "nbformat_minor": 2,
 "cells": [
  {
   "source": [
    "# Appendix VIII: Model Performances"
   ],
   "cell_type": "markdown",
   "metadata": {}
  },
  {
   "cell_type": "code",
   "execution_count": 6,
   "metadata": {},
   "outputs": [],
   "source": [
    "\"\"\"Imports necessary packages\"\"\"\n",
    "\n",
    "import itertools\n",
    "import math\n",
    "from typing import Dict, Iterable, List, Union\n",
    "\n",
    "import matplotlib.pyplot as plt\n",
    "import numpy as np\n",
    "import pandas as pd\n",
    "import pylab\n",
    "import scipy\n",
    "import scipy.stats as stats\n",
    "import seaborn as sns\n",
    "import statsmodels.api as sm\n",
    "from sklearn.model_selection import train_test_split\n",
    "\n",
    "sns.set_style(\"whitegrid\")"
   ]
  },
  {
   "cell_type": "code",
   "execution_count": 7,
   "metadata": {},
   "outputs": [],
   "source": [
    "data = pd.read_csv(\"D:/School/frequentist-statistics/ITM-song-popularity/database/itm_songs_preprocessed.csv\")\n",
    "data = data.drop(\"Unnamed: 0\", axis=1)"
   ]
  },
  {
   "cell_type": "code",
   "execution_count": 8,
   "metadata": {},
   "outputs": [],
   "source": [
    "def get_mape(model_str: str, data: Iterable, epochs: int = 10, train_size: float = 0.7) -> float:\n",
    "    \"\"\"Obtains mean absolute percentage error of model characterised by `model_str` on `data`.\n",
    "\n",
    "    Args:\n",
    "        model_str (str): model string as required by statsmodels.formula.ols\n",
    "        data (Iterable): a data set.\n",
    "        epochs (int, optional): the number of iterations. Defaults to 10.\n",
    "        train_size (float, optional): the relative size of the train data points as oposed to test data points. Defaults to 0.7.\n",
    "\n",
    "    Returns:\n",
    "        float: the mean absolute percentage error over the epochs.\n",
    "    \"\"\"\n",
    "    mapes = []\n",
    "    response = model_str.split(\" ~ \")[0]\n",
    "    for _ in range(epochs):\n",
    "        train, test = train_test_split(data, train_size=train_size)\n",
    "        model = sm.formula.ols(formula = model_str, data = train)\n",
    "        model_fitted = model.fit()\n",
    "        real_y = np.asarray(test[response])\n",
    "        pred_y = np.asarray(model_fitted.predict(test))\n",
    "        mape = []\n",
    "        for i in range(len(pred_y)):\n",
    "            targ = real_y[i]            \n",
    "            if targ == 0:\n",
    "                mape.append(abs(targ - pred_y[i]))\n",
    "            else:\n",
    "                mape.append(abs(targ - pred_y[i])/targ)\n",
    "        mapes.append(np.asarray(mape).mean())\n",
    "    return np.asarray(mapes).mean()"
   ]
  },
  {
   "cell_type": "code",
   "execution_count": 9,
   "metadata": {},
   "outputs": [],
   "source": [
    "models = [\"popularity_abs ~ age_days + complexity + track_number\", \"popularity_norm ~ age_days + complexity + track_number\", \"popularity_abs ~ age_days + complexity + track_number + track_number*duration + danceability + duration\", \"popularity_norm ~ age_days + complexity + track_number + track_number*duration + danceability + duration\", \"popularity_abs ~ track_number + duration + danceability + age_days\", \"popularity_norm ~ track_number + duration + danceability + age_days\", \"popularity_abs ~ track_number + duration + speechiness + age_days + duration*complexity + danceability*valence + danceability*complexity\", \"popularity_norm ~ track_number + duration + speechiness + age_days + duration*complexity + danceability*valence + danceability*complexity\"]"
   ]
  },
  {
   "cell_type": "code",
   "execution_count": 10,
   "metadata": {},
   "outputs": [
    {
     "output_type": "stream",
     "name": "stdout",
     "text": [
      "MAPE of `popularity_abs ~ age_days + complexity + track_number`: 0.1524\n",
      "MAPE of `popularity_norm ~ age_days + complexity + track_number`: 0.5265\n",
      "MAPE of `popularity_abs ~ age_days + complexity + track_number + track_number*duration + danceability + duration`: 0.1406\n",
      "MAPE of `popularity_norm ~ age_days + complexity + track_number + track_number*duration + danceability + duration`: 0.5015\n",
      "MAPE of `popularity_abs ~ track_number + duration + danceability + age_days`: 0.1580\n",
      "MAPE of `popularity_norm ~ track_number + duration + danceability + age_days`: 0.5445\n",
      "MAPE of `popularity_abs ~ track_number + duration + speechiness + age_days + duration*complexity + danceability*valence + danceability*complexity`: 0.1546\n",
      "MAPE of `popularity_norm ~ track_number + duration + speechiness + age_days + duration*complexity + danceability*valence + danceability*complexity`: 0.4823\n"
     ]
    }
   ],
   "source": [
    "for model_str in models:\n",
    "    print(\"MAPE of `%s`: %.4f\" % (model_str, get_mape(model_str, data)))"
   ]
  }
 ]
}